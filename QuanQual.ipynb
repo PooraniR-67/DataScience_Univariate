{
 "cells": [
  {
   "cell_type": "code",
   "execution_count": 66,
   "id": "8dcc1add-2de1-4891-aae8-1f76e940f5b9",
   "metadata": {},
   "outputs": [],
   "source": [
    "from Univariate import Univariate\n",
    "import pandas as pd"
   ]
  },
  {
   "cell_type": "code",
   "execution_count": 67,
   "id": "2e232361-fdbb-4691-b875-bf07007d2491",
   "metadata": {},
   "outputs": [
    {
     "data": {
      "text/plain": [
       "Index(['sl_no', 'gender', 'ssc_p', 'ssc_b', 'hsc_p', 'hsc_b', 'hsc_s',\n",
       "       'degree_p', 'degree_t', 'workex', 'etest_p', 'specialisation', 'mba_p',\n",
       "       'status', 'salary'],\n",
       "      dtype='object')"
      ]
     },
     "execution_count": 67,
     "metadata": {},
     "output_type": "execute_result"
    }
   ],
   "source": [
    "dataset = pd.read_csv(\"Placement_Data_Full_Class.csv\")\n",
    "dataset.columns\n"
   ]
  },
  {
   "cell_type": "code",
   "execution_count": 71,
   "id": "6462dfa8-bbe8-41eb-b84a-c6feb0bc6d91",
   "metadata": {},
   "outputs": [],
   "source": [
    " def quanQual(dataset):\n",
    "        qual = []\n",
    "        quan = []\n",
    "        for columnName in dataset.columns:\n",
    "            if (dataset[columnName].dtype == 'O'):\n",
    "                qual.append(columnName)\n",
    "            else:\n",
    "                quan.append(columnName)  \n",
    "        return quan,qual"
   ]
  },
  {
   "cell_type": "code",
   "execution_count": 74,
   "id": "f304133c-d588-4961-a78f-36f658c0e2f8",
   "metadata": {},
   "outputs": [
    {
     "name": "stdout",
     "output_type": "stream",
     "text": [
      "['sl_no', 'ssc_p', 'hsc_p', 'degree_p', 'etest_p', 'mba_p', 'salary'] \n",
      " ['gender', 'ssc_b', 'hsc_b', 'hsc_s', 'degree_t', 'workex', 'specialisation', 'status']\n"
     ]
    }
   ],
   "source": [
    "quan,qual = quanQual(dataset)\n",
    "print(quan,\"\\n\",qual)"
   ]
  },
  {
   "cell_type": "code",
   "execution_count": 76,
   "id": "103f2eef-4d57-4445-905e-30ac92a2101e",
   "metadata": {},
   "outputs": [
    {
     "name": "stdout",
     "output_type": "stream",
     "text": [
      "[] \n",
      " ['sl_no']\n"
     ]
    }
   ],
   "source": [
    "quan,qual = Univariate.quanQual(dataset)\n",
    "print(quan,\"\\n\",qual)"
   ]
  },
  {
   "cell_type": "code",
   "execution_count": null,
   "id": "3845d58e-7495-4c1d-b631-205e320a6d78",
   "metadata": {},
   "outputs": [],
   "source": []
  }
 ],
 "metadata": {
  "kernelspec": {
   "display_name": "Python 3 (ipykernel)",
   "language": "python",
   "name": "python3"
  },
  "language_info": {
   "codemirror_mode": {
    "name": "ipython",
    "version": 3
   },
   "file_extension": ".py",
   "mimetype": "text/x-python",
   "name": "python",
   "nbconvert_exporter": "python",
   "pygments_lexer": "ipython3",
   "version": "3.11.3"
  }
 },
 "nbformat": 4,
 "nbformat_minor": 5
}
