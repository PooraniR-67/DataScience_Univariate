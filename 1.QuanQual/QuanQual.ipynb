{
 "cells": [
  {
   "cell_type": "code",
   "execution_count": 66,
   "id": "8dcc1add-2de1-4891-aae8-1f76e940f5b9",
   "metadata": {},
   "outputs": [],
   "source": [
    "from Univariate import Univariate\n",
    "import pandas as pd"
   ]
  },
  {
   "cell_type": "code",
   "execution_count": 67,
   "id": "2e232361-fdbb-4691-b875-bf07007d2491",
   "metadata": {},
   "outputs": [
    {
     "data": {
      "text/plain": [
       "Index(['sl_no', 'gender', 'ssc_p', 'ssc_b', 'hsc_p', 'hsc_b', 'hsc_s',\n",
       "       'degree_p', 'degree_t', 'workex', 'etest_p', 'specialisation', 'mba_p',\n",
       "       'status', 'salary'],\n",
       "      dtype='object')"
      ]
     },
     "execution_count": 67,
     "metadata": {},
     "output_type": "execute_result"
    }
   ],
   "source": [
    "dataset = pd.read_csv(\"Placement_Data_Full_Class.csv\")\n",
    "dataset.columns\n"
   ]
  },
  {
   "cell_type": "code",
   "execution_count": 71,
   "id": "6462dfa8-bbe8-41eb-b84a-c6feb0bc6d91",
   "metadata": {},
   "outputs": [],
   "source": [
    " def quanQual(dataset):\n",
    "        qual = []\n",
    "        quan = []\n",
    "        for columnName in dataset.columns:\n",
    "            if (dataset[columnName].dtype == 'O'):\n",
    "                qual.append(columnName)\n",
    "            else:\n",
    "                quan.append(columnName)  \n",
    "        return quan,qual"
   ]
  },
  {
   "cell_type": "code",
   "execution_count": 74,
   "id": "f304133c-d588-4961-a78f-36f658c0e2f8",
   "metadata": {},
   "outputs": [
    {
     "name": "stdout",
     "output_type": "stream",
     "text": [
      "['sl_no', 'ssc_p', 'hsc_p', 'degree_p', 'etest_p', 'mba_p', 'salary'] \n",
      " ['gender', 'ssc_b', 'hsc_b', 'hsc_s', 'degree_t', 'workex', 'specialisation', 'status']\n"
     ]
    }
   ],
   "source": [
    "quan,qual = quanQual(dataset)\n",
    "print(quan,\"\\n\",qual)"
   ]
  },
  {
   "cell_type": "code",
   "execution_count": 76,
   "id": "103f2eef-4d57-4445-905e-30ac92a2101e",
   "metadata": {},
   "outputs": [
    {
     "name": "stdout",
     "output_type": "stream",
     "text": [
      "[] \n",
      " ['sl_no']\n"
     ]
    }
   ],
   "source": [
    "quan,qual = Univariate.quanQual(dataset)\n",
    "print(quan,\"\\n\",qual)"
   ]
  },
  {
   "cell_type": "code",
   "execution_count": 77,
   "id": "3845d58e-7495-4c1d-b631-205e320a6d78",
   "metadata": {},
   "outputs": [
    {
     "name": "stdout",
     "output_type": "stream",
     "text": [
      "['sl_no', 'ssc_p', 'hsc_p', 'degree_p', 'etest_p', 'mba_p', 'salary'] \n",
      " ['gender', 'ssc_b', 'hsc_b', 'hsc_s', 'degree_t', 'workex', 'specialisation', 'status']\n",
      "     sl_no  ssc_p  hsc_p  degree_p  etest_p  mba_p    salary\n",
      "0        1  67.00  91.00     58.00     55.0  58.80  270000.0\n",
      "1        2  79.33  78.33     77.48     86.5  66.28  200000.0\n",
      "2        3  65.00  68.00     64.00     75.0  57.80  250000.0\n",
      "3        4  56.00  52.00     52.00     66.0  59.43       NaN\n",
      "4        5  85.80  73.60     73.30     96.8  55.50  425000.0\n",
      "..     ...    ...    ...       ...      ...    ...       ...\n",
      "210    211  80.60  82.00     77.60     91.0  74.49  400000.0\n",
      "211    212  58.00  60.00     72.00     74.0  53.62  275000.0\n",
      "212    213  67.00  67.00     73.00     59.0  69.72  295000.0\n",
      "213    214  74.00  66.00     58.00     70.0  60.23  204000.0\n",
      "214    215  62.00  58.00     53.00     89.0  60.22       NaN\n",
      "\n",
      "[215 rows x 7 columns] \n",
      "     gender    ssc_b    hsc_b     hsc_s   degree_t workex specialisation  \\\n",
      "0        M   Others   Others  Commerce   Sci&Tech     No         Mkt&HR   \n",
      "1        M  Central   Others   Science   Sci&Tech    Yes        Mkt&Fin   \n",
      "2        M  Central  Central      Arts  Comm&Mgmt     No        Mkt&Fin   \n",
      "3        M  Central  Central   Science   Sci&Tech     No         Mkt&HR   \n",
      "4        M  Central  Central  Commerce  Comm&Mgmt     No        Mkt&Fin   \n",
      "..     ...      ...      ...       ...        ...    ...            ...   \n",
      "210      M   Others   Others  Commerce  Comm&Mgmt     No        Mkt&Fin   \n",
      "211      M   Others   Others   Science   Sci&Tech     No        Mkt&Fin   \n",
      "212      M   Others   Others  Commerce  Comm&Mgmt    Yes        Mkt&Fin   \n",
      "213      F   Others   Others  Commerce  Comm&Mgmt     No         Mkt&HR   \n",
      "214      M  Central   Others   Science  Comm&Mgmt     No         Mkt&HR   \n",
      "\n",
      "         status  \n",
      "0        Placed  \n",
      "1        Placed  \n",
      "2        Placed  \n",
      "3    Not Placed  \n",
      "4        Placed  \n",
      "..          ...  \n",
      "210      Placed  \n",
      "211      Placed  \n",
      "212      Placed  \n",
      "213      Placed  \n",
      "214  Not Placed  \n",
      "\n",
      "[215 rows x 8 columns]\n"
     ]
    }
   ],
   "source": [
    "#collect Quan & Qual data\n",
    "\n",
    "quan=[x for x in dataset if dataset[x].dtype!=object]\n",
    "\n",
    "qual=[x for x in dataset if dataset[x].dtype==object]\n",
    "\n",
    "print(quan,\"\\n\",qual)\n",
    "\n",
    "#or \n",
    "\n",
    "quan=dataset.select_dtypes(exclude=object)\n",
    "\n",
    "qual=dataset.select_dtypes(include=object)\n",
    "\n",
    "print(quan,\"\\n\",qual)\n",
    "\n"
   ]
  },
  {
   "cell_type": "code",
   "execution_count": null,
   "id": "7fdb073b-a284-4f9d-87d4-813f3bf50668",
   "metadata": {},
   "outputs": [],
   "source": []
  }
 ],
 "metadata": {
  "kernelspec": {
   "display_name": "Python 3 (ipykernel)",
   "language": "python",
   "name": "python3"
  },
  "language_info": {
   "codemirror_mode": {
    "name": "ipython",
    "version": 3
   },
   "file_extension": ".py",
   "mimetype": "text/x-python",
   "name": "python",
   "nbconvert_exporter": "python",
   "pygments_lexer": "ipython3",
   "version": "3.11.3"
  }
 },
 "nbformat": 4,
 "nbformat_minor": 5
}
